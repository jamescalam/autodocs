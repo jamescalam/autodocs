{
 "cells": [
  {
   "cell_type": "code",
   "execution_count": 1,
   "metadata": {},
   "outputs": [],
   "source": [
    "import pprint\n",
    "\n",
    "import sys\n",
    "sys.path.insert(0, 'code')\n",
    "sys.path.insert(0, '../finance_models/cashflow_eir/code')\n",
    "\n",
    "from docs import DocsBuilder\n",
    "import data"
   ]
  },
  {
   "cell_type": "code",
   "execution_count": 2,
   "metadata": {},
   "outputs": [],
   "source": [
    "with open('code/docs.py', 'r') as fp:\n",
    "    script = fp.read()"
   ]
  },
  {
   "cell_type": "code",
   "execution_count": 3,
   "metadata": {},
   "outputs": [],
   "source": [
    "builder = DocsBuilder()"
   ]
  },
  {
   "cell_type": "code",
   "execution_count": 4,
   "metadata": {},
   "outputs": [],
   "source": [
    "builder.extract(script)"
   ]
  },
  {
   "cell_type": "code",
   "execution_count": 5,
   "metadata": {},
   "outputs": [
    {
     "name": "stdout",
     "output_type": "stream",
     "text": [
      "docs.DocsBuilder\n",
      "DocsBuilder\n"
     ]
    },
    {
     "name": "stdin",
     "output_type": "stream",
     "text": [
      "Warning: 'docs.html' already exists, do you want to overwrite? (Y/N)\n",
      ">>>  y\n"
     ]
    },
    {
     "name": "stdout",
     "output_type": "stream",
     "text": [
      "HTML file saved to 'docs\\docs.html'.\n"
     ]
    },
    {
     "name": "stdin",
     "output_type": "stream",
     "text": [
      "Warning: 'docs.DocsBuilder.html' already exists, do you want to overwrite? (Y/N)\n",
      ">>>  y\n"
     ]
    },
    {
     "name": "stdout",
     "output_type": "stream",
     "text": [
      "HTML file saved to 'docs\\docs.DocsBuilder.html'.\n"
     ]
    }
   ],
   "source": [
    "builder.build()"
   ]
  },
  {
   "cell_type": "code",
   "execution_count": 2,
   "metadata": {},
   "outputs": [
    {
     "name": "stdout",
     "output_type": "stream",
     "text": [
      "docs.DocsBuilder\n",
      "DocsBuilder\n",
      "HTML file saved to 'docs\\docs.html'.\n",
      "HTML file saved to 'docs\\docs.DocsBuilder.html'.\n"
     ]
    }
   ],
   "source": [
    "from docs import DocsBuilder\n",
    "\n",
    "with open('code/docs.py', 'r') as fp:\n",
    "    script = fp.read()\n",
    "\n",
    "builder = DocsBuilder()\n",
    "builder.extract(script)\n",
    "builder.build()"
   ]
  },
  {
   "cell_type": "code",
   "execution_count": null,
   "metadata": {},
   "outputs": [],
   "source": []
  }
 ],
 "metadata": {
  "kernelspec": {
   "display_name": "Python 3",
   "language": "python",
   "name": "python3"
  },
  "language_info": {
   "codemirror_mode": {
    "name": "ipython",
    "version": 3
   },
   "file_extension": ".py",
   "mimetype": "text/x-python",
   "name": "python",
   "nbconvert_exporter": "python",
   "pygments_lexer": "ipython3",
   "version": "3.7.4"
  }
 },
 "nbformat": 4,
 "nbformat_minor": 4
}
